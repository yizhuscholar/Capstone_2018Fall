{
 "cells": [
  {
   "cell_type": "markdown",
   "metadata": {},
   "source": [
    "# Weather Data #"
   ]
  },
  {
   "cell_type": "code",
   "execution_count": 17,
   "metadata": {},
   "outputs": [],
   "source": [
    "# imports\n",
    "import pandas as pd\n",
    "import numpy as np\n",
    "import time"
   ]
  },
  {
   "cell_type": "code",
   "execution_count": 18,
   "metadata": {},
   "outputs": [],
   "source": [
    "# define data location\n",
    "location = '/Users/mithras/Documents/_SCHOOL/_Drexel/BUSN 710 - Capstone/Data/Forecasting Project/'\n",
    "#location = '/Users/loki/Documents/Data/Forecasting Project/'"
   ]
  },
  {
   "cell_type": "markdown",
   "metadata": {},
   "source": [
    "## Data Cleaning & Checking "
   ]
  },
  {
   "cell_type": "code",
   "execution_count": null,
   "metadata": {},
   "outputs": [],
   "source": [
    "# weather data\n",
    "temp_in = pd.read_excel(location+'Weather Data for Drexel 9_28_2018.xlsx', sheet_name=\"TMP\")\n",
    "humid_in = pd.read_excel(location+'Weather Data for Drexel 9_28_2018.xlsx', sheet_name=\"HUM\")\n",
    "wind_in = pd.read_excel(location+'Weather Data for Drexel 9_28_2018.xlsx', sheet_name=\"WSP\")\n",
    "cloud_in = pd.read_excel(location+'Weather Data for Drexel 9_28_2018.xlsx', sheet_name=\"CC\")"
   ]
  },
  {
   "cell_type": "code",
   "execution_count": null,
   "metadata": {},
   "outputs": [],
   "source": [
    "# clean for hourly\n",
    "hr_temp = temp_in.drop(columns=['Avg','HighDB','LowDB','AvgHL','Gas Day Average','HDD-HL','CDD-HL','HDD-24','CDD-24',\n",
    "                            'Unnamed: 34','Unnamed: 35'])\n",
    "hr_humid = humid_in.drop(columns=['Avg','Unnamed: 26','Unnamed: 27','Unnamed: 28'])\n",
    "hr_wind = wind_in.drop(columns=['Avg','Unnamed: 26'])\n",
    "hr_cloud = cloud_in.drop(columns=['AvgDaytime','Avg'])\n",
    "\n",
    "# convert to datetime\n",
    "hr_temp['Dt'] =  pd.to_datetime(hr_temp['Dt'])\n",
    "hr_humid['Dt'] =  pd.to_datetime(hr_humid['Dt'])\n",
    "hr_wind['Dt'] =  pd.to_datetime(hr_wind['Dt'])\n",
    "hr_cloud['Dt'] =  pd.to_datetime(hr_cloud['Dt'])"
   ]
  },
  {
   "cell_type": "code",
   "execution_count": null,
   "metadata": {},
   "outputs": [],
   "source": [
    "# clean for daily\n",
    "day_temp = temp_in.drop(columns=['HR0','HR1','HR2','HR3','HR4','HR5','HR6','HR7','HR8','HR9','HR10','HR11','HR12',\n",
    "                             'HR13','HR14','HR15','HR16','HR17','HR18','HR19','HR20','HR21','HR22','HR23',\n",
    "                             'AvgHL','Gas Day Average','HDD-HL','CDD-HL','HDD-24','CDD-24',\n",
    "                             'Unnamed: 34','Unnamed: 35'])\n",
    "day_temp = day_temp.rename(columns={'Avg':'AvgTemp'})\n",
    "\n",
    "day_humid = humid_in.drop(columns=['HR0','HR1','HR2','HR3','HR4','HR5','HR6','HR7','HR8','HR9','HR10','HR11','HR12',\n",
    "                               'HR13','HR14','HR15','HR16','HR17','HR18','HR19','HR20','HR21','HR22','HR23',\n",
    "                               'Unnamed: 26','Unnamed: 27','Unnamed: 28'])\n",
    "day_humid = day_humid.rename(columns={'Avg':'AvgHumid'})\n",
    "\n",
    "day_wind = wind_in.drop(columns=['HR0','HR1','HR2','HR3','HR4','HR5','HR6','HR7','HR8','HR9','HR10','HR11','HR12',\n",
    "                             'HR13','HR14','HR15','HR16','HR17','HR18','HR19','HR20','HR21','HR22','HR23',\n",
    "                             'Unnamed: 26'])\n",
    "day_wind = day_wind.rename(columns={'Avg':'AvgWind'})\n",
    "\n",
    "day_cloud = cloud_in.drop(columns=['HR0','HR1','HR2','HR3','HR4','HR5','HR6','HR7','HR8','HR9','HR10','HR11','HR12',\n",
    "                               'HR13','HR14','HR15','HR16','HR17','HR18','HR19','HR20','HR21','HR22','HR23'])\n",
    "day_cloud = day_cloud.rename(columns={'AvgDaytime':'AvgDaytimeCloud', 'Avg':'AvgCloud'})\n",
    "\n",
    "# convert to datetime\n",
    "day_temp['Dt'] =  pd.to_datetime(day_temp['Dt'])\n",
    "day_humid['Dt'] =  pd.to_datetime(day_humid['Dt'])\n",
    "day_wind['Dt'] =  pd.to_datetime(day_wind['Dt'])\n",
    "day_cloud['Dt'] =  pd.to_datetime(day_cloud['Dt'])"
   ]
  },
  {
   "cell_type": "code",
   "execution_count": null,
   "metadata": {},
   "outputs": [],
   "source": [
    "def lagDeltas(data, colname, newname, lag):\n",
    "    \"\"\"Calculates specified lag of provided column and saves as a new column\n",
    "     \n",
    "    Parameters\n",
    "    ----------\n",
    "    data : pandas dataframe object to be used calculate lag 0 and lag 1 deltas\n",
    "    colname : name of column to be lagged\n",
    "    newname : name of result to be added to pandas dataframe\n",
    "    lag : number of lags to take \n",
    "\n",
    "    Returns\n",
    "    ----------\n",
    "    lagData : pandas dataframe with new column\n",
    "    \"\"\"\n",
    "    \n",
    "    data[newname] = data[colname].shift(lag)\n",
    "    data[newname+'delta'] = data[colname]-data[newname]\n",
    "    \n",
    "    return data"
   ]
  },
  {
   "cell_type": "markdown",
   "metadata": {},
   "source": [
    "## Daily Data Restructuring##"
   ]
  },
  {
   "cell_type": "code",
   "execution_count": null,
   "metadata": {},
   "outputs": [],
   "source": [
    "# sort by date\n",
    "day_temp = day_temp.sort_values(by=[\"Dt\"])\n",
    "day_humid = day_humid.sort_values(by=[\"Dt\"])\n",
    "day_wind = day_wind.sort_values(by=[\"Dt\"])\n",
    "day_cloud = day_cloud.sort_values(by=[\"Dt\"])"
   ]
  },
  {
   "cell_type": "code",
   "execution_count": null,
   "metadata": {},
   "outputs": [],
   "source": [
    "# Find lags of weather variables\n",
    "# Lag temp\n",
    "temp = lagDeltas(day_temp, \"AvgTemp\", \"Temp1\", 1)\n",
    "temp = lagDeltas(temp, \"HighDB\", \"HighDB1\", 1)\n",
    "temp = lagDeltas(temp, \"LowDB\", \"LowDB1\", 1)\n",
    "humid = lagDeltas(day_humid, \"AvgHumid\", \"Humid1\", 1)\n",
    "wind = lagDeltas(day_wind, \"AvgWind\", \"Wind1\", 1)\n",
    "cloud = lagDeltas(day_cloud, \"AvgCloud\", \"Cloud1\", 1)"
   ]
  },
  {
   "cell_type": "code",
   "execution_count": null,
   "metadata": {},
   "outputs": [],
   "source": [
    "# Merge\n",
    "weather1 = pd.merge(temp, humid, how='inner', on=['Dt'])\n",
    "weather2 = pd.merge(wind, cloud, how='inner', on=['Dt'])\n",
    "daily_weather = pd.merge(weather1, weather2, how='inner', on=['Dt'])"
   ]
  },
  {
   "cell_type": "code",
   "execution_count": null,
   "metadata": {},
   "outputs": [],
   "source": [
    "#daily_weather.head()"
   ]
  },
  {
   "cell_type": "code",
   "execution_count": null,
   "metadata": {},
   "outputs": [],
   "source": [
    "# save file(s) as pickles\n",
    "# using save location to save with other data files outside of git repo\n",
    "daily_weather.to_pickle(location+'daily_weather.pkl.zip')"
   ]
  },
  {
   "cell_type": "markdown",
   "metadata": {},
   "source": [
    "## Hourly Data Restructuring ##"
   ]
  },
  {
   "cell_type": "code",
   "execution_count": null,
   "metadata": {},
   "outputs": [],
   "source": [
    "# Tidy / Stack data (transform into tall data - one row per customer per hour):\n",
    "# ref: http://www.jeannicholashould.com/tidy-data-in-python.html\n",
    "tidy_temp = pd.melt(hr_temp, \n",
    "                    id_vars=['Dt'],\n",
    "                    var_name='Hour', value_name='Temp')\n",
    "\n",
    "tidy_humid = pd.melt(hr_humid,\n",
    "                     id_vars=['Dt'],\n",
    "                     var_name='Hour', value_name='Humid')\n",
    "\n",
    "tidy_wind = pd.melt(hr_wind, \n",
    "                    id_vars=['Dt'],\n",
    "                    var_name='Hour', value_name='Wind')\n",
    "\n",
    "tidy_cloud = pd.melt(hr_cloud, \n",
    "                     id_vars=['Dt'],\n",
    "                     var_name='Hour', value_name='Cloud')\n",
    "\n",
    "# relabel & retype for sorting\n",
    "tidy_temp['Hour'] = tidy_temp['Hour'].str.extract('(\\d+)').astype(int)\n",
    "tidy_humid['Hour'] = tidy_humid['Hour'].str.extract('(\\d+)').astype(int)\n",
    "tidy_wind['Hour'] = tidy_wind['Hour'].str.extract('(\\d+)').astype(int)\n",
    "tidy_cloud['Hour'] = tidy_cloud['Hour'].str.extract('(\\d+)').astype(int)"
   ]
  },
  {
   "cell_type": "code",
   "execution_count": null,
   "metadata": {},
   "outputs": [],
   "source": [
    "# sort by date & time\n",
    "tidy_temp = tidy_temp.sort_values(by=[\"Dt\",\"Hour\"])\n",
    "tidy_humid = tidy_humid.sort_values(by=[\"Dt\",\"Hour\"])\n",
    "tidy_wind = tidy_wind.sort_values(by=[\"Dt\",\"Hour\"])\n",
    "tidy_cloud = tidy_cloud.sort_values(by=[\"Dt\",\"Hour\"])"
   ]
  },
  {
   "cell_type": "code",
   "execution_count": null,
   "metadata": {},
   "outputs": [],
   "source": [
    "# Find lags of weather variables\n",
    "\n",
    "# how many lags?\n",
    "nlag = 3\n",
    "# Lag temp\n",
    "for i in range(1,nlag):\n",
    "    temp = lagDeltas(tidy_temp, \"Temp\", \"Temp\"+str(i), i)\n",
    "\n",
    "# Lag humid\n",
    "for i in range(1,nlag):\n",
    "    humid = lagDeltas(tidy_humid, \"Humid\", \"Humid\"+str(i), i)\n",
    "    \n",
    "# Lag wind\n",
    "for i in range(1,nlag):\n",
    "    wind = lagDeltas(tidy_wind, \"Wind\", \"Wind\"+str(i), i)\n",
    "\n",
    "# Lag cloud\n",
    "for i in range(1,nlag):\n",
    "    cloud = lagDeltas(tidy_cloud, \"Cloud\", \"Cloud\"+str(i), i)\n"
   ]
  },
  {
   "cell_type": "code",
   "execution_count": null,
   "metadata": {},
   "outputs": [],
   "source": [
    "# Merge\n",
    "weather1 = pd.merge(temp, humid, how='inner', on=['Dt','Hour'])\n",
    "weather2 = pd.merge(wind, cloud, how='inner', on=['Dt','Hour'])\n",
    "hourly_weather = pd.merge(weather1, weather2, how='inner', on=['Dt', 'Hour'])"
   ]
  },
  {
   "cell_type": "code",
   "execution_count": null,
   "metadata": {},
   "outputs": [],
   "source": [
    "# create single column for date and time\n",
    "hourly_weather['year'] = pd.to_datetime(hourly_weather['Dt'].values).year\n",
    "hourly_weather['month'] = pd.to_datetime(hourly_weather['Dt'].values).month\n",
    "hourly_weather['day'] = pd.to_datetime(hourly_weather['Dt'].values).day\n",
    "hourly_weather['datetime'] = pd.to_datetime(hourly_weather[['year','month','day','Hour']])\n",
    "\n",
    "# sort by date & time\n",
    "hourly_weather = hourly_weather.drop(columns=['Dt','year','month','day','Hour'])\n",
    "hourly_weather = hourly_weather.sort_values(by=['datetime'])"
   ]
  },
  {
   "cell_type": "code",
   "execution_count": null,
   "metadata": {},
   "outputs": [],
   "source": [
    "# save file(s) as pickles\n",
    "# using save location to save with other data files outside of git repo\n",
    "hourly_weather.to_pickle(location+'hourly_weather.pkl.zip')"
   ]
  },
  {
   "cell_type": "code",
   "execution_count": null,
   "metadata": {},
   "outputs": [],
   "source": []
  },
  {
   "cell_type": "markdown",
   "metadata": {},
   "source": [
    "## Merge with Use ##"
   ]
  },
  {
   "cell_type": "code",
   "execution_count": null,
   "metadata": {},
   "outputs": [],
   "source": [
    "# daily load data\n",
    "daily = pd.read_pickle(location+'peco_daily.pkl.zip')\n",
    "sufficient_daily = pd.read_pickle(location+'peco_sufficient_daily.pkl.zip')\n",
    "weather = pd.read_pickle(location+'daily_weather.pkl.zip')\n",
    "\n",
    "# merge\n",
    "daily = pd.merge(daily, weather, how='inner', on=['Dt'])\n",
    "sufficient_daily = pd.merge(sufficient_daily, weather, how='inner', on=['Dt'])\n",
    "\n",
    "# load hourly data\n",
    "hourly = pd.read_pickle(location+'peco_hourly.pkl.zip')\n",
    "sufficient_hourly = pd.read_pickle(location+'peco_sufficient_hourly.pkl.zip')\n",
    "weather = pd.read_pickle(location+'hourly_weather.pkl.zip')\n",
    "\n",
    "# merge\n",
    "hourly = pd.merge(hourly, weather, how='inner', on=['Dt'])\n",
    "sufficient_hourly = pd.merge(sufficient_hourly, weather, how='inner', on=['Dt'])\n",
    "# CustIDs || Date | Consumption |||| Weather_variables "
   ]
  },
  {
   "cell_type": "code",
   "execution_count": null,
   "metadata": {},
   "outputs": [],
   "source": []
  }
 ],
 "metadata": {
  "kernelspec": {
   "display_name": "Python 3",
   "language": "python",
   "name": "python3"
  },
  "language_info": {
   "codemirror_mode": {
    "name": "ipython",
    "version": 3
   },
   "file_extension": ".py",
   "mimetype": "text/x-python",
   "name": "python",
   "nbconvert_exporter": "python",
   "pygments_lexer": "ipython3",
   "version": "3.7.0"
  }
 },
 "nbformat": 4,
 "nbformat_minor": 2
}
