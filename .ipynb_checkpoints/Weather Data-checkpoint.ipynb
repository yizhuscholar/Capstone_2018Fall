{
 "cells": [
  {
   "cell_type": "markdown",
   "metadata": {},
   "source": [
    "# Weather Data #"
   ]
  },
  {
   "cell_type": "code",
   "execution_count": 17,
   "metadata": {},
   "outputs": [],
   "source": [
    "# imports\n",
    "import pandas as pd\n",
    "import numpy as np\n",
    "import time"
   ]
  },
  {
   "cell_type": "code",
   "execution_count": 18,
   "metadata": {},
   "outputs": [],
   "source": [
    "# define data location\n",
    "#location = '/Users/mithras/Documents/_SCHOOL/_Drexel/BUSN 710 - Capstone/Data/Forecasting Project/'\n",
    "location = '/Users/loki/Documents/Data/Forecasting Project/'"
   ]
  },
  {
   "cell_type": "markdown",
   "metadata": {},
   "source": [
    "## Data Cleaning & Checking "
   ]
  },
  {
   "cell_type": "code",
   "execution_count": 19,
   "metadata": {},
   "outputs": [],
   "source": [
    "# weather data\n",
    "temp_in = pd.read_excel(location+'Weather Data for Drexel 9_28_2018.xlsx', sheet_name=\"TMP\")\n",
    "humid_in = pd.read_excel(location+'Weather Data for Drexel 9_28_2018.xlsx', sheet_name=\"HUM\")\n",
    "wind_in = pd.read_excel(location+'Weather Data for Drexel 9_28_2018.xlsx', sheet_name=\"WSP\")\n",
    "cloud_in = pd.read_excel(location+'Weather Data for Drexel 9_28_2018.xlsx', sheet_name=\"CC\")"
   ]
  },
  {
   "cell_type": "code",
   "execution_count": 20,
   "metadata": {},
   "outputs": [],
   "source": [
    "# clean for hourly\n",
    "hr_temp = temp_in.drop(columns=['Avg','HighDB','LowDB','AvgHL','Gas Day Average','HDD-HL','CDD-HL','HDD-24','CDD-24',\n",
    "                            'Unnamed: 34','Unnamed: 35'])\n",
    "hr_humid = humid_in.drop(columns=['Avg','Unnamed: 26','Unnamed: 27','Unnamed: 28'])\n",
    "hr_wind = wind_in.drop(columns=['Avg','Unnamed: 26'])\n",
    "hr_cloud = cloud_in.drop(columns=['AvgDaytime','Avg'])\n",
    "\n",
    "# convert to datetime\n",
    "hr_temp['Dt'] =  pd.to_datetime(hr_temp['Dt'])\n",
    "hr_humid['Dt'] =  pd.to_datetime(hr_humid['Dt'])\n",
    "hr_wind['Dt'] =  pd.to_datetime(hr_wind['Dt'])\n",
    "hr_cloud['Dt'] =  pd.to_datetime(hr_cloud['Dt'])"
   ]
  },
  {
   "cell_type": "code",
   "execution_count": 21,
   "metadata": {},
   "outputs": [],
   "source": [
    "# clean for daily\n",
    "day_temp = temp_in.drop(columns=['HR0','HR1','HR2','HR3','HR4','HR5','HR6','HR7','HR8','HR9','HR10','HR11','HR12',\n",
    "                             'HR13','HR14','HR15','HR16','HR17','HR18','HR19','HR20','HR21','HR22','HR23',\n",
    "                             'AvgHL','Gas Day Average','HDD-HL','CDD-HL','HDD-24','CDD-24',\n",
    "                             'Unnamed: 34','Unnamed: 35'])\n",
    "day_temp = day_temp.rename(columns={'Avg':'AvgTemp'})\n",
    "\n",
    "day_humid = humid_in.drop(columns=['HR0','HR1','HR2','HR3','HR4','HR5','HR6','HR7','HR8','HR9','HR10','HR11','HR12',\n",
    "                               'HR13','HR14','HR15','HR16','HR17','HR18','HR19','HR20','HR21','HR22','HR23',\n",
    "                               'Unnamed: 26','Unnamed: 27','Unnamed: 28'])\n",
    "day_humid = day_humid.rename(columns={'Avg':'AvgHumid'})\n",
    "\n",
    "day_wind = wind_in.drop(columns=['HR0','HR1','HR2','HR3','HR4','HR5','HR6','HR7','HR8','HR9','HR10','HR11','HR12',\n",
    "                             'HR13','HR14','HR15','HR16','HR17','HR18','HR19','HR20','HR21','HR22','HR23',\n",
    "                             'Unnamed: 26'])\n",
    "day_wind = day_wind.rename(columns={'Avg':'AvgWind'})\n",
    "\n",
    "day_cloud = cloud_in.drop(columns=['HR0','HR1','HR2','HR3','HR4','HR5','HR6','HR7','HR8','HR9','HR10','HR11','HR12',\n",
    "                               'HR13','HR14','HR15','HR16','HR17','HR18','HR19','HR20','HR21','HR22','HR23'])\n",
    "day_cloud = day_cloud.rename(columns={'AvgDaytime':'AvgDaytimeCloud', 'Avg':'AvgCloud'})\n",
    "\n",
    "# convert to datetime\n",
    "day_temp['Dt'] =  pd.to_datetime(day_temp['Dt'])\n",
    "day_humid['Dt'] =  pd.to_datetime(day_humid['Dt'])\n",
    "day_wind['Dt'] =  pd.to_datetime(day_wind['Dt'])\n",
    "day_cloud['Dt'] =  pd.to_datetime(day_cloud['Dt'])"
   ]
  },
  {
   "cell_type": "code",
   "execution_count": 22,
   "metadata": {},
   "outputs": [],
   "source": [
    "def lagDeltas(data, colname, newname, lag):\n",
    "    \"\"\"Calculates specified lag of provided column and saves as a new column\n",
    "     \n",
    "    Parameters\n",
    "    ----------\n",
    "    data : pandas dataframe object to be used calculate lag 0 and lag 1 deltas\n",
    "    colname : name of column to be lagged\n",
    "    newname : name of result to be added to pandas dataframe\n",
    "    lag : number of lags to take \n",
    "\n",
    "    Returns\n",
    "    ----------\n",
    "    lagData : pandas dataframe with new column\n",
    "    \"\"\"\n",
    "    \n",
    "    data[newname] = data[colname].shift(lag)\n",
    "    data[newname+'delta'] = data[colname]-data[newname]\n",
    "    \n",
    "    return data"
   ]
  },
  {
   "cell_type": "markdown",
   "metadata": {},
   "source": [
    "## Daily Data Restructuring##"
   ]
  },
  {
   "cell_type": "code",
   "execution_count": 23,
   "metadata": {},
   "outputs": [],
   "source": [
    "# sort by date\n",
    "day_temp = day_temp.sort_values(by=[\"Dt\"])\n",
    "day_humid = day_humid.sort_values(by=[\"Dt\"])\n",
    "day_wind = day_wind.sort_values(by=[\"Dt\"])\n",
    "day_cloud = day_cloud.sort_values(by=[\"Dt\"])"
   ]
  },
  {
   "cell_type": "code",
   "execution_count": 24,
   "metadata": {},
   "outputs": [],
   "source": [
    "# Find lags of weather variables\n",
    "# Lag temp\n",
    "temp = lagDeltas(day_temp, \"AvgTemp\", \"Temp1\", 1)\n",
    "temp = lagDeltas(temp, \"HighDB\", \"HighDB1\", 1)\n",
    "temp = lagDeltas(temp, \"LowDB\", \"LowDB1\", 1)\n",
    "humid = lagDeltas(day_humid, \"AvgHumid\", \"Humid1\", 1)\n",
    "wind = lagDeltas(day_wind, \"AvgWind\", \"Wind1\", 1)\n",
    "cloud = lagDeltas(day_cloud, \"AvgCloud\", \"Cloud1\", 1)"
   ]
  },
  {
   "cell_type": "code",
   "execution_count": 25,
   "metadata": {},
   "outputs": [],
   "source": [
    "# Merge\n",
    "weather1 = pd.merge(temp, humid, how='inner', on=['Dt'])\n",
    "weather2 = pd.merge(wind, cloud, how='inner', on=['Dt'])\n",
    "daily_weather = pd.merge(weather1, weather2, how='inner', on=['Dt'])"
   ]
  },
  {
   "cell_type": "code",
   "execution_count": 26,
   "metadata": {},
   "outputs": [
    {
     "data": {
      "text/html": [
       "<div>\n",
       "<style scoped>\n",
       "    .dataframe tbody tr th:only-of-type {\n",
       "        vertical-align: middle;\n",
       "    }\n",
       "\n",
       "    .dataframe tbody tr th {\n",
       "        vertical-align: top;\n",
       "    }\n",
       "\n",
       "    .dataframe thead th {\n",
       "        text-align: right;\n",
       "    }\n",
       "</style>\n",
       "<table border=\"1\" class=\"dataframe\">\n",
       "  <thead>\n",
       "    <tr style=\"text-align: right;\">\n",
       "      <th></th>\n",
       "      <th>Dt</th>\n",
       "      <th>AvgTemp</th>\n",
       "      <th>HighDB</th>\n",
       "      <th>LowDB</th>\n",
       "      <th>Temp1</th>\n",
       "      <th>Temp1delta</th>\n",
       "      <th>HighDB1</th>\n",
       "      <th>HighDB1delta</th>\n",
       "      <th>LowDB1</th>\n",
       "      <th>LowDB1delta</th>\n",
       "      <th>AvgHumid</th>\n",
       "      <th>Humid1</th>\n",
       "      <th>Humid1delta</th>\n",
       "      <th>AvgWind</th>\n",
       "      <th>Wind1</th>\n",
       "      <th>Wind1delta</th>\n",
       "      <th>AvgDaytimeCloud</th>\n",
       "      <th>AvgCloud</th>\n",
       "      <th>Cloud1</th>\n",
       "      <th>Cloud1delta</th>\n",
       "    </tr>\n",
       "  </thead>\n",
       "  <tbody>\n",
       "    <tr>\n",
       "      <th>0</th>\n",
       "      <td>2000-01-01</td>\n",
       "      <td>37.000000</td>\n",
       "      <td>44</td>\n",
       "      <td>32</td>\n",
       "      <td>NaN</td>\n",
       "      <td>NaN</td>\n",
       "      <td>NaN</td>\n",
       "      <td>NaN</td>\n",
       "      <td>NaN</td>\n",
       "      <td>NaN</td>\n",
       "      <td>96.666667</td>\n",
       "      <td>NaN</td>\n",
       "      <td>NaN</td>\n",
       "      <td>3.083333</td>\n",
       "      <td>NaN</td>\n",
       "      <td>NaN</td>\n",
       "      <td>90.000000</td>\n",
       "      <td>87.791667</td>\n",
       "      <td>NaN</td>\n",
       "      <td>NaN</td>\n",
       "    </tr>\n",
       "    <tr>\n",
       "      <th>1</th>\n",
       "      <td>2000-01-02</td>\n",
       "      <td>51.250000</td>\n",
       "      <td>64</td>\n",
       "      <td>37</td>\n",
       "      <td>37.000000</td>\n",
       "      <td>14.250000</td>\n",
       "      <td>44.0</td>\n",
       "      <td>20.0</td>\n",
       "      <td>32.0</td>\n",
       "      <td>5.0</td>\n",
       "      <td>78.833333</td>\n",
       "      <td>96.666667</td>\n",
       "      <td>-17.833333</td>\n",
       "      <td>8.125000</td>\n",
       "      <td>3.083333</td>\n",
       "      <td>5.041667</td>\n",
       "      <td>93.333333</td>\n",
       "      <td>86.458333</td>\n",
       "      <td>87.791667</td>\n",
       "      <td>-1.333333</td>\n",
       "    </tr>\n",
       "    <tr>\n",
       "      <th>2</th>\n",
       "      <td>2000-01-03</td>\n",
       "      <td>57.583333</td>\n",
       "      <td>62</td>\n",
       "      <td>55</td>\n",
       "      <td>51.250000</td>\n",
       "      <td>6.333333</td>\n",
       "      <td>64.0</td>\n",
       "      <td>-2.0</td>\n",
       "      <td>37.0</td>\n",
       "      <td>18.0</td>\n",
       "      <td>82.541667</td>\n",
       "      <td>78.833333</td>\n",
       "      <td>3.708333</td>\n",
       "      <td>7.291667</td>\n",
       "      <td>8.125000</td>\n",
       "      <td>-0.833333</td>\n",
       "      <td>90.250000</td>\n",
       "      <td>80.708333</td>\n",
       "      <td>86.458333</td>\n",
       "      <td>-5.750000</td>\n",
       "    </tr>\n",
       "    <tr>\n",
       "      <th>3</th>\n",
       "      <td>2000-01-04</td>\n",
       "      <td>58.875000</td>\n",
       "      <td>67</td>\n",
       "      <td>49</td>\n",
       "      <td>57.583333</td>\n",
       "      <td>1.291667</td>\n",
       "      <td>62.0</td>\n",
       "      <td>5.0</td>\n",
       "      <td>55.0</td>\n",
       "      <td>-6.0</td>\n",
       "      <td>81.250000</td>\n",
       "      <td>82.541667</td>\n",
       "      <td>-1.291667</td>\n",
       "      <td>14.250000</td>\n",
       "      <td>7.291667</td>\n",
       "      <td>6.958333</td>\n",
       "      <td>100.000000</td>\n",
       "      <td>92.083333</td>\n",
       "      <td>80.708333</td>\n",
       "      <td>11.375000</td>\n",
       "    </tr>\n",
       "    <tr>\n",
       "      <th>4</th>\n",
       "      <td>2000-01-05</td>\n",
       "      <td>38.791667</td>\n",
       "      <td>47</td>\n",
       "      <td>32</td>\n",
       "      <td>58.875000</td>\n",
       "      <td>-20.083333</td>\n",
       "      <td>67.0</td>\n",
       "      <td>-20.0</td>\n",
       "      <td>49.0</td>\n",
       "      <td>-17.0</td>\n",
       "      <td>48.541667</td>\n",
       "      <td>81.250000</td>\n",
       "      <td>-32.708333</td>\n",
       "      <td>16.250000</td>\n",
       "      <td>14.250000</td>\n",
       "      <td>2.000000</td>\n",
       "      <td>10.833333</td>\n",
       "      <td>34.583333</td>\n",
       "      <td>92.083333</td>\n",
       "      <td>-57.500000</td>\n",
       "    </tr>\n",
       "  </tbody>\n",
       "</table>\n",
       "</div>"
      ],
      "text/plain": [
       "          Dt    AvgTemp  HighDB  LowDB      Temp1  Temp1delta  HighDB1  \\\n",
       "0 2000-01-01  37.000000      44     32        NaN         NaN      NaN   \n",
       "1 2000-01-02  51.250000      64     37  37.000000   14.250000     44.0   \n",
       "2 2000-01-03  57.583333      62     55  51.250000    6.333333     64.0   \n",
       "3 2000-01-04  58.875000      67     49  57.583333    1.291667     62.0   \n",
       "4 2000-01-05  38.791667      47     32  58.875000  -20.083333     67.0   \n",
       "\n",
       "   HighDB1delta  LowDB1  LowDB1delta   AvgHumid     Humid1  Humid1delta  \\\n",
       "0           NaN     NaN          NaN  96.666667        NaN          NaN   \n",
       "1          20.0    32.0          5.0  78.833333  96.666667   -17.833333   \n",
       "2          -2.0    37.0         18.0  82.541667  78.833333     3.708333   \n",
       "3           5.0    55.0         -6.0  81.250000  82.541667    -1.291667   \n",
       "4         -20.0    49.0        -17.0  48.541667  81.250000   -32.708333   \n",
       "\n",
       "     AvgWind      Wind1  Wind1delta  AvgDaytimeCloud   AvgCloud     Cloud1  \\\n",
       "0   3.083333        NaN         NaN        90.000000  87.791667        NaN   \n",
       "1   8.125000   3.083333    5.041667        93.333333  86.458333  87.791667   \n",
       "2   7.291667   8.125000   -0.833333        90.250000  80.708333  86.458333   \n",
       "3  14.250000   7.291667    6.958333       100.000000  92.083333  80.708333   \n",
       "4  16.250000  14.250000    2.000000        10.833333  34.583333  92.083333   \n",
       "\n",
       "   Cloud1delta  \n",
       "0          NaN  \n",
       "1    -1.333333  \n",
       "2    -5.750000  \n",
       "3    11.375000  \n",
       "4   -57.500000  "
      ]
     },
     "execution_count": 26,
     "metadata": {},
     "output_type": "execute_result"
    }
   ],
   "source": [
    "#daily_weather.head()"
   ]
  },
  {
   "cell_type": "code",
   "execution_count": 27,
   "metadata": {},
   "outputs": [],
   "source": [
    "# save file(s) as pickles\n",
    "# using save location to save with other data files outside of git repo\n",
    "daily_weather.to_pickle(location+'daily_weather.pkl.zip')"
   ]
  },
  {
   "cell_type": "markdown",
   "metadata": {},
   "source": [
    "## Hourly Data Restructuring ##"
   ]
  },
  {
   "cell_type": "code",
   "execution_count": 28,
   "metadata": {},
   "outputs": [],
   "source": [
    "# Tidy / Stack data (transform into tall data - one row per customer per hour):\n",
    "# ref: http://www.jeannicholashould.com/tidy-data-in-python.html\n",
    "tidy_temp = pd.melt(hr_temp, \n",
    "                    id_vars=['Dt'],\n",
    "                    var_name='Hour', value_name='Temp')\n",
    "\n",
    "tidy_humid = pd.melt(hr_humid,\n",
    "                     id_vars=['Dt'],\n",
    "                     var_name='Hour', value_name='Humid')\n",
    "\n",
    "tidy_wind = pd.melt(hr_wind, \n",
    "                    id_vars=['Dt'],\n",
    "                    var_name='Hour', value_name='Wind')\n",
    "\n",
    "tidy_cloud = pd.melt(hr_cloud, \n",
    "                     id_vars=['Dt'],\n",
    "                     var_name='Hour', value_name='Cloud')\n",
    "\n",
    "# relabel & retype for sorting\n",
    "tidy_temp['Hour'] = tidy_temp['Hour'].str.extract('(\\d+)').astype(int)\n",
    "tidy_humid['Hour'] = tidy_humid['Hour'].str.extract('(\\d+)').astype(int)\n",
    "tidy_wind['Hour'] = tidy_wind['Hour'].str.extract('(\\d+)').astype(int)\n",
    "tidy_cloud['Hour'] = tidy_cloud['Hour'].str.extract('(\\d+)').astype(int)"
   ]
  },
  {
   "cell_type": "code",
   "execution_count": 29,
   "metadata": {},
   "outputs": [],
   "source": [
    "# sort by date & time\n",
    "tidy_temp = tidy_temp.sort_values(by=[\"Dt\",\"Hour\"])\n",
    "tidy_humid = tidy_humid.sort_values(by=[\"Dt\",\"Hour\"])\n",
    "tidy_wind = tidy_wind.sort_values(by=[\"Dt\",\"Hour\"])\n",
    "tidy_cloud = tidy_cloud.sort_values(by=[\"Dt\",\"Hour\"])"
   ]
  },
  {
   "cell_type": "code",
   "execution_count": 30,
   "metadata": {},
   "outputs": [],
   "source": [
    "# Find lags of weather variables\n",
    "# Lag temp\n",
    "for i in range(1,7):\n",
    "    temp = lagDeltas(tidy_temp, \"Temp\", \"Temp\"+str(i), i)\n",
    "\n",
    "# Lag humid\n",
    "for i in range(1,7):\n",
    "    humid = lagDeltas(tidy_humid, \"Humid\", \"Humid\"+str(i), i)\n",
    "    \n",
    "# Lag wind\n",
    "for i in range(1,7):\n",
    "    wind = lagDeltas(tidy_wind, \"Wind\", \"Wind\"+str(i), i)\n",
    "\n",
    "# Lag cloud\n",
    "for i in range(1,7):\n",
    "    cloud = lagDeltas(tidy_cloud, \"Cloud\", \"Cloud\"+str(i), i)\n"
   ]
  },
  {
   "cell_type": "code",
   "execution_count": 41,
   "metadata": {},
   "outputs": [],
   "source": [
    "# Merge\n",
    "weather1 = pd.merge(temp, humid, how='inner', on=['Dt','Hour'])\n",
    "weather2 = pd.merge(wind, cloud, how='inner', on=['Dt','Hour'])\n",
    "hourly_weather = pd.merge(weather1, weather2, how='inner', on=['Dt', 'Hour'])"
   ]
  },
  {
   "cell_type": "code",
   "execution_count": 43,
   "metadata": {},
   "outputs": [],
   "source": [
    "# create single column for date and time\n",
    "hourly_weather['year'] = pd.to_datetime(hourly_weather['Dt'].values).year\n",
    "hourly_weather['month'] = pd.to_datetime(hourly_weather['Dt'].values).month\n",
    "hourly_weather['day'] = pd.to_datetime(hourly_weather['Dt'].values).day\n",
    "hourly_weather['datetime'] = pd.to_datetime(hourly_weather[['year','month','day','Hour']])\n",
    "\n",
    "# sort by date & time\n",
    "hourly_weather = hourly_weather.drop(columns=['Dt','year','month','day','Hour'])\n",
    "hourly_weather = hourly_weather.sort_values(by=['datetime'])"
   ]
  },
  {
   "cell_type": "code",
   "execution_count": 45,
   "metadata": {},
   "outputs": [],
   "source": [
    "# save file(s) as pickles\n",
    "# using save location to save with other data files outside of git repo\n",
    "hourly_weather.to_pickle(location+'hourly_weather.pkl.zip')"
   ]
  },
  {
   "cell_type": "code",
   "execution_count": null,
   "metadata": {},
   "outputs": [],
   "source": []
  },
  {
   "cell_type": "markdown",
   "metadata": {},
   "source": [
    "## Merge with Use ##"
   ]
  },
  {
   "cell_type": "code",
   "execution_count": null,
   "metadata": {},
   "outputs": [],
   "source": [
    "# daily load data\n",
    "daily = pd.read_pickle(location+'peco_daily.pkl.zip')\n",
    "sufficient_daily = pd.read_pickle(location+'peco_sufficient_daily.pkl.zip')\n",
    "weather = pd.read_pickle(location+'daily_weather.pkl.zip')\n",
    "\n",
    "# merge\n",
    "daily = pd.merge(daily, weather, how='inner', on=['Dt'])\n",
    "sufficient_daily = pd.merge(sufficient_daily, weather, how='inner', on=['Dt'])\n",
    "\n",
    "# load hourly data\n",
    "hourly = pd.read_pickle(location+'peco_hourly.pkl.zip')\n",
    "sufficient_hourly = pd.read_pickle(location+'peco_sufficient_hourly.pkl.zip')\n",
    "weather = pd.read_pickle(location+'hourly_weather.pkl.zip')\n",
    "\n",
    "# merge\n",
    "hourly = pd.merge(hourly, weather, how='inner', on=['Dt'])\n",
    "sufficient_hourly = pd.merge(sufficient_hourly, weather, how='inner', on=['Dt'])\n",
    "# CustIDs || Date | Consumption |||| Weather_variables "
   ]
  }
 ],
 "metadata": {
  "kernelspec": {
   "display_name": "Python 3",
   "language": "python",
   "name": "python3"
  },
  "language_info": {
   "codemirror_mode": {
    "name": "ipython",
    "version": 3
   },
   "file_extension": ".py",
   "mimetype": "text/x-python",
   "name": "python",
   "nbconvert_exporter": "python",
   "pygments_lexer": "ipython3",
   "version": "3.7.0"
  }
 },
 "nbformat": 4,
 "nbformat_minor": 2
}
