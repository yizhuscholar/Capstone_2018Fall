{
 "cells": [
  {
   "cell_type": "markdown",
   "metadata": {},
   "source": [
    "# Weather Data #"
   ]
  },
  {
   "cell_type": "code",
   "execution_count": 39,
   "metadata": {},
   "outputs": [],
   "source": [
    "# imports\n",
    "import pandas as pd\n",
    "import numpy as np\n",
    "import time"
   ]
  },
  {
   "cell_type": "code",
   "execution_count": 40,
   "metadata": {},
   "outputs": [],
   "source": [
    "# define data location\n",
    "location = '/Users/mithras/Documents/_SCHOOL/_Drexel/BUSN 710 - Capstone/Data/Forecasting Project/'\n",
    "#location = '/Users/loki/Documents/Data/Forecasting Project/'"
   ]
  },
  {
   "cell_type": "markdown",
   "metadata": {},
   "source": [
    "## Data Cleaning & Checking "
   ]
  },
  {
   "cell_type": "code",
   "execution_count": 41,
   "metadata": {},
   "outputs": [],
   "source": [
    "# weather data\n",
    "temp_in = pd.read_excel(location+'Weather Data for Drexel 9_28_2018.xlsx', sheet_name=\"TMP\")\n",
    "humid_in = pd.read_excel(location+'Weather Data for Drexel 9_28_2018.xlsx', sheet_name=\"HUM\")\n",
    "wind_in = pd.read_excel(location+'Weather Data for Drexel 9_28_2018.xlsx', sheet_name=\"WSP\")\n",
    "cloud_in = pd.read_excel(location+'Weather Data for Drexel 9_28_2018.xlsx', sheet_name=\"CC\")"
   ]
  },
  {
   "cell_type": "code",
   "execution_count": 42,
   "metadata": {},
   "outputs": [],
   "source": [
    "# clean for hourly\n",
    "hr_temp = temp_in.drop(columns=['Avg','HighDB','LowDB','AvgHL','Gas Day Average','HDD-HL','CDD-HL','HDD-24','CDD-24',\n",
    "                            'Unnamed: 34','Unnamed: 35'])\n",
    "hr_humid = humid_in.drop(columns=['Avg','Unnamed: 26','Unnamed: 27','Unnamed: 28'])\n",
    "hr_wind = wind_in.drop(columns=['Avg','Unnamed: 26'])\n",
    "hr_cloud = cloud_in.drop(columns=['AvgDaytime','Avg'])\n",
    "\n",
    "# convert to datetime\n",
    "hr_temp['Dt'] =  pd.to_datetime(hr_temp['Dt'])\n",
    "hr_humid['Dt'] =  pd.to_datetime(hr_humid['Dt'])\n",
    "hr_wind['Dt'] =  pd.to_datetime(hr_wind['Dt'])\n",
    "hr_cloud['Dt'] =  pd.to_datetime(hr_cloud['Dt'])"
   ]
  },
  {
   "cell_type": "code",
   "execution_count": 43,
   "metadata": {},
   "outputs": [],
   "source": [
    "# clean for daily\n",
    "day_temp = temp_in.drop(columns=['HR0','HR1','HR2','HR3','HR4','HR5','HR6','HR7','HR8','HR9','HR10','HR11','HR12',\n",
    "                             'HR13','HR14','HR15','HR16','HR17','HR18','HR19','HR20','HR21','HR22','HR23',\n",
    "                             'AvgHL','Gas Day Average','HDD-HL','CDD-HL','HDD-24','CDD-24',\n",
    "                             'Unnamed: 34','Unnamed: 35'])\n",
    "day_temp = day_temp.rename(columns={'Avg':'AvgTemp'})\n",
    "\n",
    "day_humid = humid_in.drop(columns=['HR0','HR1','HR2','HR3','HR4','HR5','HR6','HR7','HR8','HR9','HR10','HR11','HR12',\n",
    "                               'HR13','HR14','HR15','HR16','HR17','HR18','HR19','HR20','HR21','HR22','HR23',\n",
    "                               'Unnamed: 26','Unnamed: 27','Unnamed: 28'])\n",
    "day_humid = day_humid.rename(columns={'Avg':'AvgHumid'})\n",
    "\n",
    "day_wind = wind_in.drop(columns=['HR0','HR1','HR2','HR3','HR4','HR5','HR6','HR7','HR8','HR9','HR10','HR11','HR12',\n",
    "                             'HR13','HR14','HR15','HR16','HR17','HR18','HR19','HR20','HR21','HR22','HR23',\n",
    "                             'Unnamed: 26'])\n",
    "day_wind = day_wind.rename(columns={'Avg':'AvgWind'})\n",
    "\n",
    "day_cloud = cloud_in.drop(columns=['HR0','HR1','HR2','HR3','HR4','HR5','HR6','HR7','HR8','HR9','HR10','HR11','HR12',\n",
    "                               'HR13','HR14','HR15','HR16','HR17','HR18','HR19','HR20','HR21','HR22','HR23'])\n",
    "day_cloud = day_cloud.rename(columns={'AvgDaytime':'AvgDaytimeCloud', 'Avg':'AvgCloud'})\n",
    "\n",
    "# convert to datetime\n",
    "day_temp['Dt'] =  pd.to_datetime(day_temp['Dt'])\n",
    "day_humid['Dt'] =  pd.to_datetime(day_humid['Dt'])\n",
    "day_wind['Dt'] =  pd.to_datetime(day_wind['Dt'])\n",
    "day_cloud['Dt'] =  pd.to_datetime(day_cloud['Dt'])"
   ]
  },
  {
   "cell_type": "code",
   "execution_count": 44,
   "metadata": {},
   "outputs": [],
   "source": [
    "def lagDeltas(data, colname, newname, lag):\n",
    "    \"\"\"Calculates specified lag of provided column and saves as a new column\n",
    "     \n",
    "    Parameters\n",
    "    ----------\n",
    "    data : pandas dataframe object to be used calculate lag 0 and lag 1 deltas\n",
    "    colname : name of column to be lagged\n",
    "    newname : name of result to be added to pandas dataframe\n",
    "    lag : number of lags to take \n",
    "\n",
    "    Returns\n",
    "    ----------\n",
    "    lagData : pandas dataframe with new column\n",
    "    \"\"\"\n",
    "    \n",
    "    data[newname] = data[colname].shift(lag)\n",
    "    data[newname+'delta'] = data[colname]-data[newname]\n",
    "    \n",
    "    return data"
   ]
  },
  {
   "cell_type": "markdown",
   "metadata": {},
   "source": [
    "## Daily Data Restructuring##"
   ]
  },
  {
   "cell_type": "code",
   "execution_count": 45,
   "metadata": {},
   "outputs": [],
   "source": [
    "# sort by date\n",
    "day_temp = day_temp.sort_values(by=[\"Dt\"])\n",
    "day_humid = day_humid.sort_values(by=[\"Dt\"])\n",
    "day_wind = day_wind.sort_values(by=[\"Dt\"])\n",
    "day_cloud = day_cloud.sort_values(by=[\"Dt\"])"
   ]
  },
  {
   "cell_type": "code",
   "execution_count": 46,
   "metadata": {},
   "outputs": [],
   "source": [
    "# Find lags of weather variables\n",
    "# Lag temp\n",
    "temp = lagDeltas(day_temp, \"AvgTemp\", \"Temp1\", 1)\n",
    "temp = lagDeltas(temp, \"HighDB\", \"HighDB1\", 1)\n",
    "temp = lagDeltas(temp, \"LowDB\", \"LowDB1\", 1)\n",
    "humid = lagDeltas(day_humid, \"AvgHumid\", \"Humid1\", 1)\n",
    "wind = lagDeltas(day_wind, \"AvgWind\", \"Wind1\", 1)\n",
    "cloud = lagDeltas(day_cloud, \"AvgCloud\", \"Cloud1\", 1)"
   ]
  },
  {
   "cell_type": "code",
   "execution_count": 47,
   "metadata": {},
   "outputs": [],
   "source": [
    "# Merge\n",
    "weather1 = pd.merge(temp, humid, how='inner', on=['Dt'])\n",
    "weather2 = pd.merge(wind, cloud, how='inner', on=['Dt'])\n",
    "daily_weather = pd.merge(weather1, weather2, how='inner', on=['Dt'])"
   ]
  },
  {
   "cell_type": "code",
   "execution_count": 48,
   "metadata": {},
   "outputs": [],
   "source": [
    "# save file(s) as pickles\n",
    "# using save location to save with other data files outside of git repo\n",
    "daily_weather.to_pickle(location+'daily_weather.pkl.zip')"
   ]
  },
  {
   "cell_type": "markdown",
   "metadata": {},
   "source": [
    "## Hourly Data Restructuring ##"
   ]
  },
  {
   "cell_type": "code",
   "execution_count": 49,
   "metadata": {},
   "outputs": [],
   "source": [
    "# Tidy / Stack data (transform into tall data - one row per customer per hour):\n",
    "# ref: http://www.jeannicholashould.com/tidy-data-in-python.html\n",
    "tidy_temp = pd.melt(hr_temp, \n",
    "                    id_vars=['Dt'],\n",
    "                    var_name='Hour', value_name='Temp')\n",
    "\n",
    "tidy_humid = pd.melt(hr_humid,\n",
    "                     id_vars=['Dt'],\n",
    "                     var_name='Hour', value_name='Humid')\n",
    "\n",
    "tidy_wind = pd.melt(hr_wind, \n",
    "                    id_vars=['Dt'],\n",
    "                    var_name='Hour', value_name='Wind')\n",
    "\n",
    "tidy_cloud = pd.melt(hr_cloud, \n",
    "                     id_vars=['Dt'],\n",
    "                     var_name='Hour', value_name='Cloud')\n",
    "\n",
    "# relabel & retype for sorting\n",
    "tidy_temp['Hour'] = tidy_temp['Hour'].str.extract('(\\d+)').astype(int)\n",
    "tidy_humid['Hour'] = tidy_humid['Hour'].str.extract('(\\d+)').astype(int)\n",
    "tidy_wind['Hour'] = tidy_wind['Hour'].str.extract('(\\d+)').astype(int)\n",
    "tidy_cloud['Hour'] = tidy_cloud['Hour'].str.extract('(\\d+)').astype(int)"
   ]
  },
  {
   "cell_type": "code",
   "execution_count": 50,
   "metadata": {},
   "outputs": [],
   "source": [
    "# sort by date & time\n",
    "tidy_temp = tidy_temp.sort_values(by=[\"Dt\",\"Hour\"])\n",
    "tidy_humid = tidy_humid.sort_values(by=[\"Dt\",\"Hour\"])\n",
    "tidy_wind = tidy_wind.sort_values(by=[\"Dt\",\"Hour\"])\n",
    "tidy_cloud = tidy_cloud.sort_values(by=[\"Dt\",\"Hour\"])"
   ]
  },
  {
   "cell_type": "code",
   "execution_count": 51,
   "metadata": {},
   "outputs": [],
   "source": [
    "# Find lags of weather variables\n",
    "# Lag temp\n",
    "for i in range(1,7):\n",
    "    temp = lagDeltas(tidy_temp, \"Temp\", \"Temp\"+str(i), i)\n",
    "\n",
    "# Lag humid\n",
    "for i in range(1,7):\n",
    "    humid = lagDeltas(tidy_humid, \"Humid\", \"Humid\"+str(i), i)\n",
    "    \n",
    "# Lag wind\n",
    "for i in range(1,7):\n",
    "    wind = lagDeltas(tidy_wind, \"Wind\", \"Wind\"+str(i), i)\n",
    "\n",
    "# Lag cloud\n",
    "for i in range(1,7):\n",
    "    cloud = lagDeltas(tidy_cloud, \"Cloud\", \"Cloud\"+str(i), i)\n"
   ]
  },
  {
   "cell_type": "code",
   "execution_count": 52,
   "metadata": {},
   "outputs": [],
   "source": [
    "# Merge\n",
    "weather1 = pd.merge(temp, humid, how='inner', on=['Dt','Hour'])\n",
    "weather2 = pd.merge(wind, cloud, how='inner', on=['Dt','Hour'])\n",
    "hourly_weather = pd.merge(weather1, weather2, how='inner', on=['Dt', 'Hour'])"
   ]
  },
  {
   "cell_type": "code",
   "execution_count": 53,
   "metadata": {},
   "outputs": [],
   "source": [
    "# save file(s) as pickles\n",
    "# using save location to save with other data files outside of git repo\n",
    "hourly_weather.to_pickle(location+'hourly_weather.pkl.zip')"
   ]
  },
  {
   "cell_type": "code",
   "execution_count": 54,
   "metadata": {},
   "outputs": [
    {
     "data": {
      "text/html": [
       "<div>\n",
       "<style scoped>\n",
       "    .dataframe tbody tr th:only-of-type {\n",
       "        vertical-align: middle;\n",
       "    }\n",
       "\n",
       "    .dataframe tbody tr th {\n",
       "        vertical-align: top;\n",
       "    }\n",
       "\n",
       "    .dataframe thead th {\n",
       "        text-align: right;\n",
       "    }\n",
       "</style>\n",
       "<table border=\"1\" class=\"dataframe\">\n",
       "  <thead>\n",
       "    <tr style=\"text-align: right;\">\n",
       "      <th></th>\n",
       "      <th>Dt</th>\n",
       "      <th>Hour</th>\n",
       "      <th>Temp</th>\n",
       "      <th>Temp1</th>\n",
       "      <th>Temp1delta</th>\n",
       "      <th>Temp2</th>\n",
       "      <th>Temp2delta</th>\n",
       "      <th>Temp3</th>\n",
       "      <th>Temp3delta</th>\n",
       "      <th>Temp4</th>\n",
       "      <th>...</th>\n",
       "      <th>Cloud2</th>\n",
       "      <th>Cloud2delta</th>\n",
       "      <th>Cloud3</th>\n",
       "      <th>Cloud3delta</th>\n",
       "      <th>Cloud4</th>\n",
       "      <th>Cloud4delta</th>\n",
       "      <th>Cloud5</th>\n",
       "      <th>Cloud5delta</th>\n",
       "      <th>Cloud6</th>\n",
       "      <th>Cloud6delta</th>\n",
       "    </tr>\n",
       "  </thead>\n",
       "  <tbody>\n",
       "    <tr>\n",
       "      <th>0</th>\n",
       "      <td>2000-01-01</td>\n",
       "      <td>0</td>\n",
       "      <td>35.0</td>\n",
       "      <td>NaN</td>\n",
       "      <td>NaN</td>\n",
       "      <td>NaN</td>\n",
       "      <td>NaN</td>\n",
       "      <td>NaN</td>\n",
       "      <td>NaN</td>\n",
       "      <td>NaN</td>\n",
       "      <td>...</td>\n",
       "      <td>NaN</td>\n",
       "      <td>NaN</td>\n",
       "      <td>NaN</td>\n",
       "      <td>NaN</td>\n",
       "      <td>NaN</td>\n",
       "      <td>NaN</td>\n",
       "      <td>NaN</td>\n",
       "      <td>NaN</td>\n",
       "      <td>NaN</td>\n",
       "      <td>NaN</td>\n",
       "    </tr>\n",
       "    <tr>\n",
       "      <th>1</th>\n",
       "      <td>2000-01-01</td>\n",
       "      <td>1</td>\n",
       "      <td>37.0</td>\n",
       "      <td>35.0</td>\n",
       "      <td>2.0</td>\n",
       "      <td>NaN</td>\n",
       "      <td>NaN</td>\n",
       "      <td>NaN</td>\n",
       "      <td>NaN</td>\n",
       "      <td>NaN</td>\n",
       "      <td>...</td>\n",
       "      <td>NaN</td>\n",
       "      <td>NaN</td>\n",
       "      <td>NaN</td>\n",
       "      <td>NaN</td>\n",
       "      <td>NaN</td>\n",
       "      <td>NaN</td>\n",
       "      <td>NaN</td>\n",
       "      <td>NaN</td>\n",
       "      <td>NaN</td>\n",
       "      <td>NaN</td>\n",
       "    </tr>\n",
       "    <tr>\n",
       "      <th>2</th>\n",
       "      <td>2000-01-01</td>\n",
       "      <td>2</td>\n",
       "      <td>37.0</td>\n",
       "      <td>37.0</td>\n",
       "      <td>0.0</td>\n",
       "      <td>35.0</td>\n",
       "      <td>2.0</td>\n",
       "      <td>NaN</td>\n",
       "      <td>NaN</td>\n",
       "      <td>NaN</td>\n",
       "      <td>...</td>\n",
       "      <td>100.0</td>\n",
       "      <td>0.0</td>\n",
       "      <td>NaN</td>\n",
       "      <td>NaN</td>\n",
       "      <td>NaN</td>\n",
       "      <td>NaN</td>\n",
       "      <td>NaN</td>\n",
       "      <td>NaN</td>\n",
       "      <td>NaN</td>\n",
       "      <td>NaN</td>\n",
       "    </tr>\n",
       "    <tr>\n",
       "      <th>3</th>\n",
       "      <td>2000-01-01</td>\n",
       "      <td>3</td>\n",
       "      <td>35.0</td>\n",
       "      <td>37.0</td>\n",
       "      <td>-2.0</td>\n",
       "      <td>37.0</td>\n",
       "      <td>-2.0</td>\n",
       "      <td>35.0</td>\n",
       "      <td>0.0</td>\n",
       "      <td>NaN</td>\n",
       "      <td>...</td>\n",
       "      <td>100.0</td>\n",
       "      <td>0.0</td>\n",
       "      <td>100.0</td>\n",
       "      <td>0.0</td>\n",
       "      <td>NaN</td>\n",
       "      <td>NaN</td>\n",
       "      <td>NaN</td>\n",
       "      <td>NaN</td>\n",
       "      <td>NaN</td>\n",
       "      <td>NaN</td>\n",
       "    </tr>\n",
       "    <tr>\n",
       "      <th>4</th>\n",
       "      <td>2000-01-01</td>\n",
       "      <td>4</td>\n",
       "      <td>33.0</td>\n",
       "      <td>35.0</td>\n",
       "      <td>-2.0</td>\n",
       "      <td>37.0</td>\n",
       "      <td>-4.0</td>\n",
       "      <td>37.0</td>\n",
       "      <td>-4.0</td>\n",
       "      <td>35.0</td>\n",
       "      <td>...</td>\n",
       "      <td>100.0</td>\n",
       "      <td>0.0</td>\n",
       "      <td>100.0</td>\n",
       "      <td>0.0</td>\n",
       "      <td>100.0</td>\n",
       "      <td>0.0</td>\n",
       "      <td>NaN</td>\n",
       "      <td>NaN</td>\n",
       "      <td>NaN</td>\n",
       "      <td>NaN</td>\n",
       "    </tr>\n",
       "  </tbody>\n",
       "</table>\n",
       "<p>5 rows × 54 columns</p>\n",
       "</div>"
      ],
      "text/plain": [
       "          Dt  Hour  Temp  Temp1  Temp1delta  Temp2  Temp2delta  Temp3  \\\n",
       "0 2000-01-01     0  35.0    NaN         NaN    NaN         NaN    NaN   \n",
       "1 2000-01-01     1  37.0   35.0         2.0    NaN         NaN    NaN   \n",
       "2 2000-01-01     2  37.0   37.0         0.0   35.0         2.0    NaN   \n",
       "3 2000-01-01     3  35.0   37.0        -2.0   37.0        -2.0   35.0   \n",
       "4 2000-01-01     4  33.0   35.0        -2.0   37.0        -4.0   37.0   \n",
       "\n",
       "   Temp3delta  Temp4     ...       Cloud2  Cloud2delta  Cloud3  Cloud3delta  \\\n",
       "0         NaN    NaN     ...          NaN          NaN     NaN          NaN   \n",
       "1         NaN    NaN     ...          NaN          NaN     NaN          NaN   \n",
       "2         NaN    NaN     ...        100.0          0.0     NaN          NaN   \n",
       "3         0.0    NaN     ...        100.0          0.0   100.0          0.0   \n",
       "4        -4.0   35.0     ...        100.0          0.0   100.0          0.0   \n",
       "\n",
       "   Cloud4  Cloud4delta  Cloud5  Cloud5delta  Cloud6  Cloud6delta  \n",
       "0     NaN          NaN     NaN          NaN     NaN          NaN  \n",
       "1     NaN          NaN     NaN          NaN     NaN          NaN  \n",
       "2     NaN          NaN     NaN          NaN     NaN          NaN  \n",
       "3     NaN          NaN     NaN          NaN     NaN          NaN  \n",
       "4   100.0          0.0     NaN          NaN     NaN          NaN  \n",
       "\n",
       "[5 rows x 54 columns]"
      ]
     },
     "execution_count": 54,
     "metadata": {},
     "output_type": "execute_result"
    }
   ],
   "source": [
    "hourly_weather.head()"
   ]
  },
  {
   "cell_type": "markdown",
   "metadata": {},
   "source": [
    "## Merge with Use ##"
   ]
  },
  {
   "cell_type": "code",
   "execution_count": 55,
   "metadata": {},
   "outputs": [
    {
     "ename": "NameError",
     "evalue": "name 'daily_tall' is not defined",
     "output_type": "error",
     "traceback": [
      "\u001b[0;31m---------------------------------------------------------------------------\u001b[0m",
      "\u001b[0;31mNameError\u001b[0m                                 Traceback (most recent call last)",
      "\u001b[0;32m<ipython-input-55-4609df575b70>\u001b[0m in \u001b[0;36m<module>\u001b[0;34m\u001b[0m\n\u001b[1;32m      1\u001b[0m \u001b[0;31m# to combine with use data:\u001b[0m\u001b[0;34m\u001b[0m\u001b[0;34m\u001b[0m\u001b[0m\n\u001b[0;32m----> 2\u001b[0;31m \u001b[0mdaily_weather\u001b[0m \u001b[0;34m=\u001b[0m \u001b[0mpd\u001b[0m\u001b[0;34m.\u001b[0m\u001b[0mmerge\u001b[0m\u001b[0;34m(\u001b[0m\u001b[0mdaily_tall\u001b[0m\u001b[0;34m,\u001b[0m \u001b[0mdaily_weather\u001b[0m\u001b[0;34m,\u001b[0m \u001b[0mhow\u001b[0m\u001b[0;34m=\u001b[0m\u001b[0;34m'inner'\u001b[0m\u001b[0;34m,\u001b[0m \u001b[0mon\u001b[0m\u001b[0;34m=\u001b[0m\u001b[0;34m[\u001b[0m\u001b[0;34m'Dt'\u001b[0m\u001b[0;34m]\u001b[0m\u001b[0;34m)\u001b[0m\u001b[0;34m\u001b[0m\u001b[0m\n\u001b[0m\u001b[1;32m      3\u001b[0m \u001b[0mhourly_weather\u001b[0m \u001b[0;34m=\u001b[0m \u001b[0mpd\u001b[0m\u001b[0;34m.\u001b[0m\u001b[0mmerge\u001b[0m\u001b[0;34m(\u001b[0m\u001b[0mhourly_tall\u001b[0m\u001b[0;34m,\u001b[0m \u001b[0mhourly_weather\u001b[0m\u001b[0;34m,\u001b[0m \u001b[0mhow\u001b[0m\u001b[0;34m=\u001b[0m\u001b[0;34m'inner'\u001b[0m\u001b[0;34m,\u001b[0m \u001b[0mon\u001b[0m\u001b[0;34m=\u001b[0m\u001b[0;34m[\u001b[0m\u001b[0;34m'Dt'\u001b[0m\u001b[0;34m,\u001b[0m\u001b[0;34m'Hour'\u001b[0m\u001b[0;34m]\u001b[0m\u001b[0;34m)\u001b[0m\u001b[0;34m\u001b[0m\u001b[0m\n\u001b[1;32m      4\u001b[0m \u001b[0;31m# CustIDs || Date | Consumption |||| Weather_variables\u001b[0m\u001b[0;34m\u001b[0m\u001b[0;34m\u001b[0m\u001b[0m\n",
      "\u001b[0;31mNameError\u001b[0m: name 'daily_tall' is not defined"
     ]
    }
   ],
   "source": [
    "# to combine with use data:\n",
    "daily_weather = pd.merge(daily_tall, daily_weather, how='inner', on=['Dt'])\n",
    "hourly_weather = pd.merge(hourly_tall, hourly_weather, how='inner', on=['Dt','Hour'])\n",
    "# CustIDs || Date | Consumption |||| Weather_variables "
   ]
  }
 ],
 "metadata": {
  "kernelspec": {
   "display_name": "Python 3",
   "language": "python",
   "name": "python3"
  },
  "language_info": {
   "codemirror_mode": {
    "name": "ipython",
    "version": 3
   },
   "file_extension": ".py",
   "mimetype": "text/x-python",
   "name": "python",
   "nbconvert_exporter": "python",
   "pygments_lexer": "ipython3",
   "version": "3.7.0"
  }
 },
 "nbformat": 4,
 "nbformat_minor": 2
}
