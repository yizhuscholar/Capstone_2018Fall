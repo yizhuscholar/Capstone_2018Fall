{
 "cells": [
  {
   "cell_type": "markdown",
   "metadata": {},
   "source": [
    "# PROJECT SKELETON #"
   ]
  },
  {
   "cell_type": "code",
   "execution_count": null,
   "metadata": {},
   "outputs": [],
   "source": [
    "# imports\n",
    "import pandas as pd\n",
    "import numpy as np"
   ]
  },
  {
   "cell_type": "markdown",
   "metadata": {},
   "source": [
    "## Data Cleaning & Checking "
   ]
  },
  {
   "cell_type": "code",
   "execution_count": null,
   "metadata": {},
   "outputs": [],
   "source": [
    "# sample size\n",
    "# % missing\n",
    "# outliers\n",
    "# distributions(?)"
   ]
  },
  {
   "cell_type": "markdown",
   "metadata": {},
   "source": [
    "## Data Restructuring ##"
   ]
  },
  {
   "cell_type": "code",
   "execution_count": null,
   "metadata": {},
   "outputs": [],
   "source": [
    "# def: Tidy / Stack data"
   ]
  },
  {
   "cell_type": "code",
   "execution_count": null,
   "metadata": {},
   "outputs": [],
   "source": [
    "# def: Lag deltas"
   ]
  },
  {
   "cell_type": "code",
   "execution_count": null,
   "metadata": {},
   "outputs": [],
   "source": [
    "def lagDeltas(x):\n",
    "    \"\"\"Differences between lag 0 and lag 1. \n",
    "    \n",
    "    If differences between lag n and lag n+1 are needed, simply lag the results(??? is this true)\n",
    "    \n",
    "    Parameters\n",
    "    ----------\n",
    "    x : pandas.Series object to be calculate lag 0 and lag 1 deltas\n",
    "\n",
    "    Returns\n",
    "    ----------\n",
    "    lagDeltas : float\n",
    "    \"\"\"\n",
    "    return lagDeltas"
   ]
  },
  {
   "cell_type": "markdown",
   "metadata": {},
   "source": [
    "## Regression ##\n",
    "We want to find a function f that that predicts gas consumption (y) based on weather data x1, x2, ..., xn."
   ]
  },
  {
   "cell_type": "markdown",
   "metadata": {},
   "source": [
    "parallel processing in python: \n",
    "https://stackoverflow.com/questions/18294534/is-there-a-foreach-function-in-python-3https://docs.python.org/3/library/multiprocessing.html\n",
    "https://joblib.readthedocs.io/en/latest/parallel.html"
   ]
  },
  {
   "cell_type": "markdown",
   "metadata": {},
   "source": [
    "What type of regression?  Try using small sample and pick version that (a) minimizes error and (b) gives us small enough runtimes to be able to do it for each consumer ID:\n",
    "* Linear regression + LASSO\n",
    "* GLM/nonlinearn (polynomial)\n",
    "* GLM/nonlinear (poisson)\n",
    "* Kernel Ridge Regression (KRR)\n",
    "* SVR"
   ]
  },
  {
   "cell_type": "code",
   "execution_count": null,
   "metadata": {},
   "outputs": [],
   "source": [
    "# parallelize!  For each ID:\n",
    "# predict *gas* as a function of weather data\n",
    "    # how many lag-deltas for each weather variable? (hypothesis <= 3?)\n",
    "    # additive or multiplicative? (hypothesis: mult)\n",
    "    # degree polynomial (hypothesis = 3?)"
   ]
  },
  {
   "cell_type": "code",
   "execution_count": null,
   "metadata": {},
   "outputs": [],
   "source": [
    "# extract weights from regression\n",
    "# create new df with ID, regression weights, regresion error"
   ]
  },
  {
   "cell_type": "markdown",
   "metadata": {},
   "source": [
    "## Cluster ##"
   ]
  },
  {
   "cell_type": "code",
   "execution_count": null,
   "metadata": {},
   "outputs": [],
   "source": [
    "# def: k-means"
   ]
  },
  {
   "cell_type": "code",
   "execution_count": null,
   "metadata": {},
   "outputs": [],
   "source": [
    "# for (k=2 to n):\n",
    "    # kmeans"
   ]
  },
  {
   "cell_type": "code",
   "execution_count": null,
   "metadata": {},
   "outputs": [],
   "source": [
    "# scree plot"
   ]
  },
  {
   "cell_type": "code",
   "execution_count": null,
   "metadata": {},
   "outputs": [],
   "source": [
    "# def: PCA\n",
    "    # normalize or not?"
   ]
  },
  {
   "cell_type": "code",
   "execution_count": null,
   "metadata": {},
   "outputs": [],
   "source": [
    "# visualize cluster identities using PCA on weight vector"
   ]
  },
  {
   "cell_type": "code",
   "execution_count": null,
   "metadata": {},
   "outputs": [],
   "source": [
    "# visualize rate-code identities using PCA on weight vector"
   ]
  },
  {
   "cell_type": "markdown",
   "metadata": {},
   "source": [
    "## Forecast ##"
   ]
  },
  {
   "cell_type": "code",
   "execution_count": null,
   "metadata": {},
   "outputs": [],
   "source": [
    "# def: error function\n",
    "    # RMSE, MAE, SMAPE?"
   ]
  },
  {
   "cell_type": "code",
   "execution_count": null,
   "metadata": {},
   "outputs": [],
   "source": [
    "# def: auto.arima"
   ]
  },
  {
   "cell_type": "code",
   "execution_count": null,
   "metadata": {},
   "outputs": [],
   "source": [
    "# split data into training and testing"
   ]
  },
  {
   "cell_type": "code",
   "execution_count": null,
   "metadata": {},
   "outputs": [],
   "source": [
    "# forecast each cluster\n",
    "# compare forecast to testing data\n",
    "# sum cluster errors for total error"
   ]
  },
  {
   "cell_type": "code",
   "execution_count": null,
   "metadata": {},
   "outputs": [],
   "source": [
    "# forecast each rate code\n",
    "# sum rate-code errors for total error"
   ]
  },
  {
   "cell_type": "markdown",
   "metadata": {},
   "source": [
    "## Segmentation comparison ##"
   ]
  },
  {
   "cell_type": "markdown",
   "metadata": {},
   "source": [
    "* do any of our clusters correspond with rate code segments?\n",
    "* if so, can we correct rate codes based on segments directly?\n",
    "* if not, can we come up with a classifier to estimate rate code based on segment?"
   ]
  },
  {
   "cell_type": "code",
   "execution_count": null,
   "metadata": {},
   "outputs": [],
   "source": []
  },
  {
   "cell_type": "code",
   "execution_count": null,
   "metadata": {},
   "outputs": [],
   "source": []
  },
  {
   "cell_type": "code",
   "execution_count": null,
   "metadata": {},
   "outputs": [],
   "source": []
  },
  {
   "cell_type": "code",
   "execution_count": null,
   "metadata": {},
   "outputs": [],
   "source": []
  },
  {
   "cell_type": "code",
   "execution_count": null,
   "metadata": {},
   "outputs": [],
   "source": []
  },
  {
   "cell_type": "markdown",
   "metadata": {},
   "source": [
    "## Code Archive ##"
   ]
  },
  {
   "cell_type": "markdown",
   "metadata": {},
   "source": [
    "### cross correlation ###"
   ]
  },
  {
   "cell_type": "markdown",
   "metadata": {},
   "source": [
    "The proper way to compare for relationships between time series is by the cross-correlation function (*assuming stationarity*). Having the same length is not essential. \n",
    "The cross correlation at lag 0 just computes a correlation like doing the Pearson correlation estimate pairing the data at the identical time points. If they do have the same length as you are assuming, you will have exact T pairs where T is the number of time points for each series. \n",
    "Lag 1 cross correlation matches time t from series 1 with time t+1 in series 2. Note that here even though the series are the same length you only have T-2 pair as one point in the first series has no match in the second and one other point in the second series will not have a match from the first. Given these two series you can estimate the cross-correlation at several lags . \n",
    "If any of the cross correlations is statistically significantly different from 0 it will indicate a correlation between the two series.\n",
    "see: https://stats.stackexchange.com/questions/29096/correlation-between-two-time-series, https://stats.stackexchange.com/questions/26842/correlating-volume-timeseries,\n",
    "https://stackoverflow.com/questions/33171413/cross-correlation-time-lag-correlation-with-pandas#37215839"
   ]
  },
  {
   "cell_type": "code",
   "execution_count": 1,
   "metadata": {},
   "outputs": [],
   "source": [
    "def crosscorr(y, X, lag=0):\n",
    "    \"\"\" Lag-N cross correlation. \n",
    "    Parameters\n",
    "    ----------\n",
    "    lag : int, default 0\n",
    "    y : pandas.Series object; independent variable\n",
    "    X : pandas.Series object; matrix of dependent variables\n",
    "\n",
    "    Returns\n",
    "    ----------\n",
    "    crosscorr : float\n",
    "    \"\"\"\n",
    "    return X.corr(y.shift(lag))    "
   ]
  }
 ],
 "metadata": {
  "kernelspec": {
   "display_name": "Python 3",
   "language": "python",
   "name": "python3"
  },
  "language_info": {
   "codemirror_mode": {
    "name": "ipython",
    "version": 3
   },
   "file_extension": ".py",
   "mimetype": "text/x-python",
   "name": "python",
   "nbconvert_exporter": "python",
   "pygments_lexer": "ipython3",
   "version": "3.7.0"
  }
 },
 "nbformat": 4,
 "nbformat_minor": 2
}
